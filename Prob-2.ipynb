{
 "cells": [
  {
   "cell_type": "code",
   "execution_count": 9,
   "metadata": {},
   "outputs": [],
   "source": [
    "import numpy as np\n",
    "import numpy.random as rnd\n",
    "import matplotlib.pyplot as plt\n",
    "%matplotlib inline"
   ]
  },
  {
   "cell_type": "code",
   "execution_count": 53,
   "metadata": {},
   "outputs": [],
   "source": [
    "def Mismatch_Dice(sides, trials):\n",
    "    \"\"\"\n",
    "    Throw several dice.\n",
    "    Sides of each die is given as a list\n",
    "    \"\"\"\n",
    "    \n",
    "    print(\"========================\")\n",
    "    print(\"Number of dice   = \", len(sides))\n",
    "    print(\"Number of sides  = \", sides)\n",
    "    print(\"Number of trials = \", trials)\n",
    "    print(\"========================\")\n",
    "    \n",
    "    Sums = [] #sum of every trial\n",
    "    for i in range(trials):\n",
    "        tmp_sum = 0 #initialize tmp_sum at the beginning of every trial\n",
    "        for side in sides:\n",
    "            tmp_sum = tmp_sum + int((rnd.random() * side + 1) // 1)\n",
    "        Sums.append(tmp_sum)\n",
    "\n",
    "    plt.hist(Sums, np.sum(sides)-2, density=True)\n",
    "    plt.xlabel(\"Sum of dice\")\n",
    "    plt.ylabel(\"Probability\")"
   ]
  },
  {
   "cell_type": "code",
   "execution_count": 54,
   "metadata": {},
   "outputs": [
    {
     "name": "stdout",
     "output_type": "stream",
     "text": [
      "========================\n",
      "Number of dice   =  2\n",
      "Number of sides  =  [4, 6]\n",
      "Number of trials =  1000\n",
      "========================\n"
     ]
    },
    {
     "data": {
      "image/png": "[encoded data removed]",
      "text/plain": [
       "<matplotlib.figure.Figure at 0x7aaf070>"
      ]
     },
     "metadata": {},
     "output_type": "display_data"
    }
   ],
   "source": [
    "Mismatch_Dice([4, 6], 1000)"
   ]
  },
  {
   "cell_type": "code",
   "execution_count": null,
   "metadata": {},
   "outputs": [],
   "source": []
  },
  {
   "cell_type": "code",
   "execution_count": 46,
   "metadata": {},
   "outputs": [
    {
     "name": "stdout",
     "output_type": "stream",
     "text": [
      "========================\n",
      "Number of dice   =  3\n",
      "Number of sides  =  [6, 6, 6]\n",
      "Number of trials =  1000\n",
      "========================\n"
     ]
    },
    {
     "data": {
      "image/png": "[encoded data removed]",
      "text/plain": [
       "<matplotlib.figure.Figure at 0x806a310>"
      ]
     },
     "metadata": {},
     "output_type": "display_data"
    }
   ],
   "source": [
    "Mismatch_Dice([6, 6, 6], 1000)"
   ]
  },
  {
   "cell_type": "code",
   "execution_count": 50,
   "metadata": {},
   "outputs": [
    {
     "name": "stdout",
     "output_type": "stream",
     "text": [
      "========================\n",
      "Number of dice   =  3\n",
      "Number of sides  =  [6, 10, 20]\n",
      "Number of trials =  1000\n",
      "========================\n"
     ]
    },
    {
     "data": {
      "image/png": "[encoded data removed]",
      "text/plain": [
       "<matplotlib.figure.Figure at 0x638c3f0>"
      ]
     },
     "metadata": {},
     "output_type": "display_data"
    }
   ],
   "source": [
    "Mismatch_Dice([6, 10, 20], 1000)"
   ]
  },
  {
   "cell_type": "code",
   "execution_count": null,
   "metadata": {},
   "outputs": [],
   "source": []
  }
 ],
 "metadata": {
  "kernelspec": {
   "display_name": "Python 3",
   "language": "python",
   "name": "python3"
  },
  "language_info": {
   "codemirror_mode": {
    "name": "ipython",
    "version": 3
   },
   "file_extension": ".py",
   "mimetype": "text/x-python",
   "name": "python",
   "nbconvert_exporter": "python",
   "pygments_lexer": "ipython3",
   "version": "3.6.3"
  }
 },
 "nbformat": 4,
 "nbformat_minor": 2
}
