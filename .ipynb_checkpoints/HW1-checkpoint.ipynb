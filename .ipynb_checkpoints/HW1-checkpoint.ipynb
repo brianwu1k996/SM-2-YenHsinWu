{
 "cells": [
  {
   "cell_type": "code",
   "execution_count": 1,
   "metadata": {},
   "outputs": [],
   "source": [
    "import time\n",
    "import random as rnd\n",
    "import numpy as np"
   ]
  },
  {
   "cell_type": "markdown",
   "metadata": {},
   "source": [
    "## Problem 1-1\n",
    "$\\langle s\\rangle = \\frac{(s+1)}{2}$  \n",
    "  \n",
    "$\\sigma^2 = \\frac{(s-1)(s+1)}{12}$  \n",
    "  \n",
    "$\\sigma = \\sqrt{\\frac{(s-1)(s+1)}{12}}$"
   ]
  },
  {
   "cell_type": "code",
   "execution_count": 66,
   "metadata": {},
   "outputs": [],
   "source": [
    "def one_dice(trials, s):\n",
    "    \n",
    "    ti = time.clock()\n",
    "    print(\"---------------------------------------------------------------\")\n",
    "    print(\"# of trials : {}, # of sides : {}\".format(trials, s))\n",
    "    print(\"---------------------------------------------------------------\")\n",
    "    \n",
    "    histogram = np.zeros(s)\n",
    "    mean_th = (s + 1)/2\n",
    "    var_th = (s - 1)*(s + 1)/12\n",
    "    std_th = var_th**0.5\n",
    "    \n",
    "    for i in range(trials):\n",
    "        res = int(np.random.random()*s)\n",
    "        histogram[res] = histogram[res] + 1\n",
    "    \n",
    "    mean_tmp = 0\n",
    "    var_tmp = 0\n",
    "    for i, k in enumerate(histogram):\n",
    "        mean_tmp = mean_tmp + (i+1)*k\n",
    "        var_tmp = var_tmp + ((i+1)**2)*k\n",
    "    mean_ex = mean_tmp / trials\n",
    "    var_ex = var_tmp / trials - mean_ex**2\n",
    "    std_ex = var_ex**0.5\n",
    "    \n",
    "    print(\"| Mean(th) | Mean(ex) | Var(th) | Var(ex) | Std(th) | Std(ex) |\")\n",
    "    print(\"|  {:5.2f}   |  {:5.2f}   |  {:5.2f}  |  {:5.2f}  |  {:5.2f}  |  {:5.2f}  |\".format(\n",
    "    mean_th, mean_ex, var_th, var_ex, std_th, std_ex))\n",
    "    \n",
    "    print(\"---------------------------------------------------------------\")\n",
    "    print(\"Mean error : {:2.2f}%\".format(100 * abs(mean_th-mean_ex) / mean_th))\n",
    "    print(\" Var error : {:2.2f}%\".format(100 * abs(var_th-var_ex) / var_th))\n",
    "    print(\" Std error : {:2.2f}%\".format(100 * abs(std_th-std_ex) / std_th))\n",
    "    \n",
    "    tf = time.clock()\n",
    "    print(\"---------------------------------------------------------------\")\n",
    "    print(\"Time : {:.4f}\".format(tf-ti))\n",
    "    print()"
   ]
  },
  {
   "cell_type": "code",
   "execution_count": 67,
   "metadata": {},
   "outputs": [
    {
     "name": "stdout",
     "output_type": "stream",
     "text": [
      "---------------------------------------------------------------\n",
      "# of trials : 100, # of sides : 4\n",
      "---------------------------------------------------------------\n",
      "| Mean(th) | Mean(ex) | Var(th) | Var(ex) | Std(th) | Std(ex) |\n",
      "|   2.50   |   2.57   |   1.25  |   1.27  |   1.12  |   1.12  |\n",
      "---------------------------------------------------------------\n",
      "Mean error : 2.80%\n",
      " Var error : 1.21%\n",
      " Std error : 0.60%\n",
      "---------------------------------------------------------------\n",
      "Time : 0.0008\n",
      "\n",
      "---------------------------------------------------------------\n",
      "# of trials : 10000, # of sides : 4\n",
      "---------------------------------------------------------------\n",
      "| Mean(th) | Mean(ex) | Var(th) | Var(ex) | Std(th) | Std(ex) |\n",
      "|   2.50   |   2.51   |   1.25  |   1.26  |   1.12  |   1.12  |\n",
      "---------------------------------------------------------------\n",
      "Mean error : 0.37%\n",
      " Var error : 1.07%\n",
      " Std error : 0.53%\n",
      "---------------------------------------------------------------\n",
      "Time : 0.0257\n",
      "\n"
     ]
    }
   ],
   "source": [
    "one_dice(100, 4)\n",
    "one_dice(10000, 4)"
   ]
  },
  {
   "cell_type": "markdown",
   "metadata": {},
   "source": [
    "## Problem 1-2\n",
    "### Result\n",
    "````\n",
    "---------------------------------------------------------------\n",
    "# of trials : 100, # of sides : 4\n",
    "---------------------------------------------------------------\n",
    "| Mean(th) | Mean(ex) | Var(th) | Var(ex) | Std(th) | Std(ex) |\n",
    "|   2.50   |   2.57   |   1.25  |   1.27  |   1.12  |   1.12  |\n",
    "---------------------------------------------------------------\n",
    "Mean error : 2.80%\n",
    " Var error : 1.21%\n",
    " Std error : 0.60%\n",
    "---------------------------------------------------------------\n",
    "Time : 0.0008\n",
    "\n",
    "---------------------------------------------------------------\n",
    "# of trials : 10000, # of sides : 4\n",
    "---------------------------------------------------------------\n",
    "| Mean(th) | Mean(ex) | Var(th) | Var(ex) | Std(th) | Std(ex) |\n",
    "|   2.50   |   2.51   |   1.25  |   1.26  |   1.12  |   1.12  |\n",
    "---------------------------------------------------------------\n",
    "Mean error : 0.37%\n",
    " Var error : 1.07%\n",
    " Std error : 0.53%\n",
    "---------------------------------------------------------------\n",
    "Time : 0.0257\n",
    "````\n",
    "\n",
    "In this simulation, I choosed a four-side dice and throw it 100 and 10000 times. Apparently, the more trials the program does, the smaller error it gives."
   ]
  },
  {
   "cell_type": "code",
   "execution_count": 70,
   "metadata": {},
   "outputs": [
    {
     "name": "stdout",
     "output_type": "stream",
     "text": [
      "---------------------------------------------------------------\n",
      "# of trials : 100, # of sides : 4\n",
      "---------------------------------------------------------------\n",
      "| Mean(th) | Mean(ex) | Var(th) | Var(ex) | Std(th) | Std(ex) |\n",
      "|   2.50   |   2.65   |   1.25  |   1.27  |   1.12  |   1.13  |\n",
      "---------------------------------------------------------------\n",
      "Mean error : 6.00%\n",
      " Var error : 1.40%\n",
      " Std error : 0.70%\n",
      "---------------------------------------------------------------\n",
      "Time : 0.0007\n",
      "\n",
      "---------------------------------------------------------------\n",
      "# of trials : 100, # of sides : 8\n",
      "---------------------------------------------------------------\n",
      "| Mean(th) | Mean(ex) | Var(th) | Var(ex) | Std(th) | Std(ex) |\n",
      "|   4.50   |   4.97   |   5.25  |   5.53  |   2.29  |   2.35  |\n",
      "---------------------------------------------------------------\n",
      "Mean error : 10.44%\n",
      " Var error : 5.32%\n",
      " Std error : 2.62%\n",
      "---------------------------------------------------------------\n",
      "Time : 0.0009\n",
      "\n"
     ]
    }
   ],
   "source": [
    "one_dice(100, 4)\n",
    "one_dice(100, 8)"
   ]
  },
  {
   "cell_type": "markdown",
   "metadata": {},
   "source": [
    "## Problem 1-3\n",
    "### Result\n",
    "````\n",
    "\n",
    "---------------------------------------------------------------\n",
    "# of trials : 100, # of sides : 4\n",
    "---------------------------------------------------------------\n",
    "| Mean(th) | Mean(ex) | Var(th) | Var(ex) | Std(th) | Std(ex) |\n",
    "|   2.50   |   2.65   |   1.25  |   1.27  |   1.12  |   1.13  |\n",
    "---------------------------------------------------------------\n",
    "Mean error : 6.00%\n",
    " Var error : 1.40%\n",
    " Std error : 0.70%\n",
    "---------------------------------------------------------------\n",
    "Time : 0.0007\n",
    "\n",
    "---------------------------------------------------------------\n",
    "# of trials : 100, # of sides : 8\n",
    "---------------------------------------------------------------\n",
    "| Mean(th) | Mean(ex) | Var(th) | Var(ex) | Std(th) | Std(ex) |\n",
    "|   4.50   |   4.97   |   5.25  |   5.53  |   2.29  |   2.35  |\n",
    "---------------------------------------------------------------\n",
    "Mean error : 10.44%\n",
    " Var error : 5.32%\n",
    " Std error : 2.62%\n",
    "---------------------------------------------------------------\n",
    "Time : 0.0009\n",
    "````\n",
    "\n",
    "This time I choose a four-side dice and a eight-side dice, and throw both 100 times. The result indicates that a dice with more sides, the error of variance and standard deviation between theoretical value and experiment value becomes larger."
   ]
  },
  {
   "cell_type": "code",
   "execution_count": 121,
   "metadata": {},
   "outputs": [
    {
     "name": "stdout",
     "output_type": "stream",
     "text": [
      "---------------------------------------------------------------\n",
      "# of trials : 900, # of sides : 4\n",
      "---------------------------------------------------------------\n",
      "| Mean(th) | Mean(ex) | Var(th) | Var(ex) | Std(th) | Std(ex) |\n",
      "|   2.50   |   2.49   |   1.25  |   1.27  |   1.12  |   1.12  |\n",
      "---------------------------------------------------------------\n",
      "Mean error : 0.58%\n",
      " Var error : 1.23%\n",
      " Std error : 0.61%\n",
      "---------------------------------------------------------------\n",
      "Time : 0.0042\n",
      "\n"
     ]
    }
   ],
   "source": [
    "one_dice(900, 4)"
   ]
  },
  {
   "cell_type": "code",
   "execution_count": 132,
   "metadata": {},
   "outputs": [
    {
     "name": "stdout",
     "output_type": "stream",
     "text": [
      "---------------------------------------------------------------\n",
      "# of trials : 1200, # of sides : 8\n",
      "---------------------------------------------------------------\n",
      "| Mean(th) | Mean(ex) | Var(th) | Var(ex) | Std(th) | Std(ex) |\n",
      "|   4.50   |   4.48   |   5.25  |   5.22  |   2.29  |   2.28  |\n",
      "---------------------------------------------------------------\n",
      "Mean error : 0.44%\n",
      " Var error : 0.61%\n",
      " Std error : 0.31%\n",
      "---------------------------------------------------------------\n",
      "Time : 0.0043\n",
      "\n"
     ]
    }
   ],
   "source": [
    "one_dice(1200, 8)"
   ]
  },
  {
   "cell_type": "markdown",
   "metadata": {},
   "source": [
    "## Problem 1-4\n",
    "### Result\n",
    "````\n",
    "---------------------------------------------------------------\n",
    "# of trials : 900, # of sides : 4\n",
    "---------------------------------------------------------------\n",
    "| Mean(th) | Mean(ex) | Var(th) | Var(ex) | Std(th) | Std(ex) |\n",
    "|   2.50   |   2.49   |   1.25  |   1.27  |   1.12  |   1.12  |\n",
    "---------------------------------------------------------------\n",
    "Mean error : 0.58%\n",
    " Var error : 1.23%\n",
    " Std error : 0.61%\n",
    "---------------------------------------------------------------\n",
    "Time : 0.0042\n",
    "\n",
    "---------------------------------------------------------------\n",
    "# of trials : 1200, # of sides : 8\n",
    "---------------------------------------------------------------\n",
    "| Mean(th) | Mean(ex) | Var(th) | Var(ex) | Std(th) | Std(ex) |\n",
    "|   4.50   |   4.48   |   5.25  |   5.22  |   2.29  |   2.28  |\n",
    "---------------------------------------------------------------\n",
    "Mean error : 0.44%\n",
    " Var error : 0.61%\n",
    " Std error : 0.31%\n",
    "---------------------------------------------------------------\n",
    "Time : 0.0043\n",
    "````\n",
    "The result shows that for a four-side dice, we need about 900 times of trials to get 1% accuracy for mean and standard deviation. For a eight-side dice, about 1200 times of trials are needed."
   ]
  },
  {
   "cell_type": "code",
   "execution_count": null,
   "metadata": {},
   "outputs": [],
   "source": []
  }
 ],
 "metadata": {
  "kernelspec": {
   "display_name": "Python 3",
   "language": "python",
   "name": "python3"
  },
  "language_info": {
   "codemirror_mode": {
    "name": "ipython",
    "version": 3
   },
   "file_extension": ".py",
   "mimetype": "text/x-python",
   "name": "python",
   "nbconvert_exporter": "python",
   "pygments_lexer": "ipython3",
   "version": "3.6.3"
  }
 },
 "nbformat": 4,
 "nbformat_minor": 2
}
